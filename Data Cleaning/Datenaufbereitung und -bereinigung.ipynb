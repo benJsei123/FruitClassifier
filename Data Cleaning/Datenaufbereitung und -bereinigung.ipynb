{
 "cells": [
  {
   "cell_type": "markdown",
   "id": "31b49c85",
   "metadata": {},
   "source": [
    "# Datenbereinigung und -aufbereitung\n",
    "\n",
    "In diesem Notebook:\n",
    "\n",
    "1. **Einheitliche Formatierung + Normalisierung und Skalierung** X \n",
    "2. **Duplikate und Datensätze mit fehlenden Werten entfernen**\n",
    "3. **Ausreißer erkennen und behandeln**\n",
    "\n",
    "\n"
   ]
  },
  {
   "cell_type": "markdown",
   "id": "e63ccf42",
   "metadata": {},
   "source": [
    "## 1. Einheitliche Formatierung + Normalisierung + Skalierung"
   ]
  },
  {
   "cell_type": "code",
   "execution_count": 43,
   "id": "4f08338c",
   "metadata": {},
   "outputs": [
    {
     "name": "stdout",
     "output_type": "stream",
     "text": [
      "  fruit_type         color    size     weight\n",
      "0      grape        Yellow    Tiny   8.303385\n",
      "1      apple          Pink  Largee  80.976370\n",
      "2     banana   Pale Yellow   Large  74.615192\n",
      "3      grape           Red    Tiny   6.924070\n",
      "4     banana  Creamy White  Largee  82.002542\n"
     ]
    }
   ],
   "source": [
    "#Excel einlesen\n",
    "import pandas as pd\n",
    "data = pd.read_excel(\"fruit_data.xlsx\", dtype={'color': str}) \n",
    "\n",
    "\n",
    "#INDEX Spalte entfernen \n",
    "data = data.iloc[:, 1:] # iloc[row_indices, column_indices] lässt einen nur die benötigten columns auswählen\n",
    "\n",
    "print(data.head())"
   ]
  },
  {
   "cell_type": "code",
   "execution_count": 44,
   "id": "ba528a2e",
   "metadata": {},
   "outputs": [
    {
     "name": "stdout",
     "output_type": "stream",
     "text": [
      "['Yellow' 'Pink' 'Pale Yellow' 'Red' 'Creamy White' 'Green' 'Yellow1'\n",
      " 'Purple' 'Black']\n"
     ]
    }
   ],
   "source": [
    "#Liste alle Colors (für Folgeschritt)\n",
    "unique_colors = data['color'].unique()\n",
    "print(unique_colors)\n",
    "\n",
    "\n",
    "##Datentypen für die einzelnen Color einträge geben lassen##\n",
    "#for color_value in data['color']:\n",
    "#    print(f\"Value: '{color_value}', Datentyp: {type(color_value)}\")"
   ]
  },
  {
   "cell_type": "code",
   "execution_count": 45,
   "id": "8c250c15",
   "metadata": {},
   "outputs": [
    {
     "name": "stdout",
     "output_type": "stream",
     "text": [
      "0            Yellow\n",
      "1              Pink\n",
      "2       Pale Yellow\n",
      "3               Red\n",
      "4      Creamy White\n",
      "           ...     \n",
      "195          Purple\n",
      "196     Pale Yellow\n",
      "197             Red\n",
      "198             Red\n",
      "199             Red\n",
      "Name: color, Length: 200, dtype: object\n"
     ]
    }
   ],
   "source": [
    "#Color Spalte vereinfachen\n",
    "color_mapping = {\n",
    "    'Yellow': 'Yellow',\n",
    "    'Yellow1': 'Yellow',\n",
    "    'Pale Yellow': 'Pale Yellow',\n",
    "    'Red': 'Red',\n",
    "    'Green': 'Green',\n",
    "    'Purple': 'Purple',\n",
    "    'Pink': 'Pink',\n",
    "    'Black': 'Black',\n",
    "    'Creamy White': 'Creamy White',\n",
    "}\n",
    "data['color'] = data['color'].map(color_mapping)\n",
    "print(data['color'])"
   ]
  },
  {
   "cell_type": "code",
   "execution_count": 46,
   "id": "36fd816d",
   "metadata": {},
   "outputs": [],
   "source": [
    "#Liste alle Sizes (für Folgeschritt)#\n",
    "#unique_colors = data['size'].unique()\n",
    "#print(unique_colors)\n",
    "\n",
    "\n",
    "#Size Spalte vereinfachen \n",
    "size_mapping = {\n",
    "    'Tiny': 'Tiny',\n",
    "    'Largee': 'Large',\n",
    "    'Large' : 'Large',\n",
    "    'Small' : 'Small',\n",
    "    'Medium' : 'Medium'  \n",
    "}\n",
    "data['size'] = data['size'].map(size_mapping)"
   ]
  },
  {
   "cell_type": "code",
   "execution_count": 47,
   "id": "a90aaae7",
   "metadata": {},
   "outputs": [
    {
     "name": "stdout",
     "output_type": "stream",
     "text": [
      "0        Tiny\n",
      "1       Large\n",
      "2       Large\n",
      "3        Tiny\n",
      "4       Large\n",
      "        ...  \n",
      "195     Small\n",
      "196     Large\n",
      "197     Small\n",
      "198    Medium\n",
      "199    Medium\n",
      "Name: size, Length: 200, dtype: object\n"
     ]
    }
   ],
   "source": [
    "print(data['size'])"
   ]
  },
  {
   "cell_type": "code",
   "execution_count": 48,
   "id": "e51a9605",
   "metadata": {},
   "outputs": [],
   "source": [
    "# NOTEBOOK CONFIG ZELLE\n",
    "\n",
    "#pd.set_option('display.max_rows', None)    # Zeige alle Zeilen\n",
    "pd.reset_option('display.max_rows')    # Zeige NICHT alle Zeilen\n"
   ]
  },
  {
   "cell_type": "code",
   "execution_count": 49,
   "id": "2272782b",
   "metadata": {},
   "outputs": [
    {
     "name": "stdout",
     "output_type": "stream",
     "text": [
      "  fruit_type         color   size     weight\n",
      "0      grape        Yellow   Tiny   8.303385\n",
      "1      apple          Pink  Large  80.976370\n",
      "2     banana   Pale Yellow  Large  74.615192\n",
      "3      grape           Red   Tiny   6.924070\n",
      "4     banana  Creamy White  Large  82.002542\n"
     ]
    }
   ],
   "source": [
    "print(data.head())"
   ]
  },
  {
   "cell_type": "code",
   "execution_count": null,
   "id": "520fb38f",
   "metadata": {},
   "outputs": [],
   "source": [
    "\n"
   ]
  },
  {
   "cell_type": "code",
   "execution_count": 50,
   "id": "06f4bf45",
   "metadata": {},
   "outputs": [],
   "source": [
    "#Size Spalte Label Encoding\n",
    "\n",
    "from sklearn.preprocessing import LabelEncoder\n",
    "\n",
    "sizeLabelEncoder = LabelEncoder()\n",
    "encoded_values = sizeLabelEncoder.fit_transform(data['size']) # Problem: gibt Tiny den Wert 3 und Large den Wert 0 \n",
    "\n",
    "\n",
    "# => Umkehren\n",
    "\n",
    "amountOfFoundCategories = len(sizeLabelEncoder.classes_) # [Tiny, Small, Medium, Large] => 4\n",
    "numericValueRangeMax = amountOfFoundCategories - 1 # 0-3 als zuordenbare numerische Werte\n",
    "reversed_encoded_values = numericValueRangeMax - encoded_values # 3 - [numerischerWert der alten Zuordnung] = [Umgekehrte Zuordnung]\n",
    "\n",
    "data['size'] = reversed_encoded_values\n"
   ]
  },
  {
   "cell_type": "code",
   "execution_count": 51,
   "id": "fee94f79",
   "metadata": {},
   "outputs": [
    {
     "name": "stdout",
     "output_type": "stream",
     "text": [
      "  fruit_type         color  size     weight\n",
      "0      grape        Yellow     0   8.303385\n",
      "1      apple          Pink     3  80.976370\n",
      "2     banana   Pale Yellow     3  74.615192\n",
      "3      grape           Red     0   6.924070\n",
      "4     banana  Creamy White     3  82.002542\n",
      "['Yellow' 'Pink' 'Pale Yellow' 'Red' 'Creamy White' 'Green' 'Purple'\n",
      " 'Black']\n"
     ]
    }
   ],
   "source": [
    "print(data.head())\n",
    "\n",
    "unique_colors = data['color'].unique()\n",
    "print(unique_colors)\n"
   ]
  },
  {
   "cell_type": "code",
   "execution_count": 52,
   "id": "2b4a4db5",
   "metadata": {},
   "outputs": [],
   "source": [
    "#Color Spalte Label Encoding \n",
    "\n",
    "colorLabelEncoder = LabelEncoder()\n",
    "\n",
    "color_order = {\n",
    "    'Black':0,\n",
    "    'Purple':1,\n",
    "    'Pink':2,\n",
    "    'Green':3,\n",
    "    'Red':4,\n",
    "    'Yellow':5,\n",
    "    'Pale Yellow':6,\n",
    "    'Creamy White':7\n",
    "}\n",
    "#Für Überlegung hinter dieser Ordnung siehe unten\n",
    "           \n",
    "encoded_color_values = colorLabelEncoder.fit_transform([color_order[color] for color in data['color']]) #weist jeder Farbe in der color column den richtigen numerischen Wert zu (folgt dabei der color_order!) und legt sie in einem neues Dataframe \"encoded_color_values\" ab\n",
    "\n",
    "data['color'] = encoded_color_values\n",
    "\n",
    "\n",
    "#colorLabelEncoder.transform(colors)"
   ]
  },
  {
   "cell_type": "markdown",
   "id": "185c8870",
   "metadata": {},
   "source": [
    "#### Überlegungen hinter der Farbordnung\n",
    "\n",
    "auf Trauben könnten zutreffen: Black, Purple, Pink, Green\n",
    "auf Äpfel könnte zutreffen: Pink, Green, Red Yellow\n",
    "auf Banana könnte zutreffen: Yellow, Pale Yellow, Creamy White\n",
    "\n",
    "=>Die color_order setzt die Farben in einer Reihenfolge zusammen, in der Farben, die zur selben Frucht gehören könnten, nahe beieinande liegen "
   ]
  },
  {
   "cell_type": "code",
   "execution_count": 53,
   "id": "3348b814",
   "metadata": {},
   "outputs": [],
   "source": [
    "# fruit_type One-hot encoding\n",
    "\n",
    "data = pd.get_dummies(data, columns=['fruit_type'], drop_first=False) #erstellt onehot encode spalten für \"fruit_type\"\n",
    "\n"
   ]
  },
  {
   "cell_type": "code",
   "execution_count": 54,
   "id": "cd7f0d52",
   "metadata": {},
   "outputs": [],
   "source": [
    "#alle Feature Spalten skalieren auf einen Bereich zwischen 0 und 1\n",
    "\n",
    "from sklearn.preprocessing import MinMaxScaler\n",
    "from sklearn.preprocessing import StandardScaler\n",
    "minMaxScaler = MinMaxScaler()\n",
    "standardScaler = StandardScaler()\n",
    "\n",
    "data['weight'] = standardScaler.fit_transform(data[['weight']])\n",
    "data['color'] = standardScaler.fit_transform(data[['color']])\n",
    "data['size'] = standardScaler.fit_transform(data[['size']])\n"
   ]
  },
  {
   "cell_type": "markdown",
   "id": "35f35309",
   "metadata": {},
   "source": [
    "## 2. Duplikate und Datensätze mit fehlenden Werten entfernen"
   ]
  },
  {
   "cell_type": "code",
   "execution_count": 55,
   "id": "b7e5c3e2",
   "metadata": {},
   "outputs": [],
   "source": [
    "data = data.drop_duplicates(subset=['color', 'size', 'weight'])\n",
    "#subset sind die Spalten, die auf Duplikate geprüft werden sollen\n",
    "\n",
    "#indem ich nicht alle vier spalten angebe, erreiche ich, dass zusätzliche alle Datensätze entfernt werden,\n",
    "#in denen gleiche Features denselben Output ergeben"
   ]
  },
  {
   "cell_type": "code",
   "execution_count": 56,
   "id": "9dfc79d2",
   "metadata": {},
   "outputs": [
    {
     "name": "stdout",
     "output_type": "stream",
     "text": [
      "        color      size    weight  fruit_type_apple  fruit_type_banana  \\\n",
      "0    0.729387 -1.777319 -1.089371                 0                  0   \n",
      "1   -0.973462  1.144301  0.470776                 1                  0   \n",
      "2    1.297003  1.144301  0.334214                 0                  1   \n",
      "3    0.161771 -1.777319 -1.118982                 0                  0   \n",
      "4    1.864620  1.144301  0.492806                 0                  1   \n",
      "..        ...       ...       ...               ...                ...   \n",
      "192 -0.405846  0.170428 -1.033580                 0                  0   \n",
      "194 -0.405846 -0.803445 -1.175107                 0                  0   \n",
      "196  1.297003  1.144301 -0.430096                 0                  1   \n",
      "198  0.161771  0.170428 -1.167769                 0                  0   \n",
      "199  0.161771  0.170428 -1.140172                 0                  0   \n",
      "\n",
      "     fruit_type_grape  \n",
      "0                   1  \n",
      "1                   0  \n",
      "2                   0  \n",
      "3                   1  \n",
      "4                   0  \n",
      "..                ...  \n",
      "192                 1  \n",
      "194                 1  \n",
      "196                 0  \n",
      "198                 1  \n",
      "199                 1  \n",
      "\n",
      "[181 rows x 6 columns]\n"
     ]
    }
   ],
   "source": [
    "print(data)"
   ]
  },
  {
   "cell_type": "code",
   "execution_count": 57,
   "id": "61d40c57",
   "metadata": {},
   "outputs": [
    {
     "data": {
      "text/html": [
       "<div>\n",
       "<style scoped>\n",
       "    .dataframe tbody tr th:only-of-type {\n",
       "        vertical-align: middle;\n",
       "    }\n",
       "\n",
       "    .dataframe tbody tr th {\n",
       "        vertical-align: top;\n",
       "    }\n",
       "\n",
       "    .dataframe thead th {\n",
       "        text-align: right;\n",
       "    }\n",
       "</style>\n",
       "<table border=\"1\" class=\"dataframe\">\n",
       "  <thead>\n",
       "    <tr style=\"text-align: right;\">\n",
       "      <th></th>\n",
       "      <th>color</th>\n",
       "      <th>size</th>\n",
       "      <th>weight</th>\n",
       "      <th>fruit_type_apple</th>\n",
       "      <th>fruit_type_banana</th>\n",
       "      <th>fruit_type_grape</th>\n",
       "    </tr>\n",
       "  </thead>\n",
       "  <tbody>\n",
       "    <tr>\n",
       "      <th>0</th>\n",
       "      <td>0.729387</td>\n",
       "      <td>-1.777319</td>\n",
       "      <td>-1.089371</td>\n",
       "      <td>0</td>\n",
       "      <td>0</td>\n",
       "      <td>1</td>\n",
       "    </tr>\n",
       "    <tr>\n",
       "      <th>1</th>\n",
       "      <td>-0.973462</td>\n",
       "      <td>1.144301</td>\n",
       "      <td>0.470776</td>\n",
       "      <td>1</td>\n",
       "      <td>0</td>\n",
       "      <td>0</td>\n",
       "    </tr>\n",
       "    <tr>\n",
       "      <th>2</th>\n",
       "      <td>1.297003</td>\n",
       "      <td>1.144301</td>\n",
       "      <td>0.334214</td>\n",
       "      <td>0</td>\n",
       "      <td>1</td>\n",
       "      <td>0</td>\n",
       "    </tr>\n",
       "    <tr>\n",
       "      <th>3</th>\n",
       "      <td>0.161771</td>\n",
       "      <td>-1.777319</td>\n",
       "      <td>-1.118982</td>\n",
       "      <td>0</td>\n",
       "      <td>0</td>\n",
       "      <td>1</td>\n",
       "    </tr>\n",
       "    <tr>\n",
       "      <th>4</th>\n",
       "      <td>1.864620</td>\n",
       "      <td>1.144301</td>\n",
       "      <td>0.492806</td>\n",
       "      <td>0</td>\n",
       "      <td>1</td>\n",
       "      <td>0</td>\n",
       "    </tr>\n",
       "    <tr>\n",
       "      <th>...</th>\n",
       "      <td>...</td>\n",
       "      <td>...</td>\n",
       "      <td>...</td>\n",
       "      <td>...</td>\n",
       "      <td>...</td>\n",
       "      <td>...</td>\n",
       "    </tr>\n",
       "    <tr>\n",
       "      <th>192</th>\n",
       "      <td>-0.405846</td>\n",
       "      <td>0.170428</td>\n",
       "      <td>-1.033580</td>\n",
       "      <td>0</td>\n",
       "      <td>0</td>\n",
       "      <td>1</td>\n",
       "    </tr>\n",
       "    <tr>\n",
       "      <th>194</th>\n",
       "      <td>-0.405846</td>\n",
       "      <td>-0.803445</td>\n",
       "      <td>-1.175107</td>\n",
       "      <td>0</td>\n",
       "      <td>0</td>\n",
       "      <td>1</td>\n",
       "    </tr>\n",
       "    <tr>\n",
       "      <th>196</th>\n",
       "      <td>1.297003</td>\n",
       "      <td>1.144301</td>\n",
       "      <td>-0.430096</td>\n",
       "      <td>0</td>\n",
       "      <td>1</td>\n",
       "      <td>0</td>\n",
       "    </tr>\n",
       "    <tr>\n",
       "      <th>198</th>\n",
       "      <td>0.161771</td>\n",
       "      <td>0.170428</td>\n",
       "      <td>-1.167769</td>\n",
       "      <td>0</td>\n",
       "      <td>0</td>\n",
       "      <td>1</td>\n",
       "    </tr>\n",
       "    <tr>\n",
       "      <th>199</th>\n",
       "      <td>0.161771</td>\n",
       "      <td>0.170428</td>\n",
       "      <td>-1.140172</td>\n",
       "      <td>0</td>\n",
       "      <td>0</td>\n",
       "      <td>1</td>\n",
       "    </tr>\n",
       "  </tbody>\n",
       "</table>\n",
       "<p>181 rows × 6 columns</p>\n",
       "</div>"
      ],
      "text/plain": [
       "        color      size    weight  fruit_type_apple  fruit_type_banana  \\\n",
       "0    0.729387 -1.777319 -1.089371                 0                  0   \n",
       "1   -0.973462  1.144301  0.470776                 1                  0   \n",
       "2    1.297003  1.144301  0.334214                 0                  1   \n",
       "3    0.161771 -1.777319 -1.118982                 0                  0   \n",
       "4    1.864620  1.144301  0.492806                 0                  1   \n",
       "..        ...       ...       ...               ...                ...   \n",
       "192 -0.405846  0.170428 -1.033580                 0                  0   \n",
       "194 -0.405846 -0.803445 -1.175107                 0                  0   \n",
       "196  1.297003  1.144301 -0.430096                 0                  1   \n",
       "198  0.161771  0.170428 -1.167769                 0                  0   \n",
       "199  0.161771  0.170428 -1.140172                 0                  0   \n",
       "\n",
       "     fruit_type_grape  \n",
       "0                   1  \n",
       "1                   0  \n",
       "2                   0  \n",
       "3                   1  \n",
       "4                   0  \n",
       "..                ...  \n",
       "192                 1  \n",
       "194                 1  \n",
       "196                 0  \n",
       "198                 1  \n",
       "199                 1  \n",
       "\n",
       "[181 rows x 6 columns]"
      ]
     },
     "execution_count": 57,
     "metadata": {},
     "output_type": "execute_result"
    }
   ],
   "source": [
    "data = data.dropna()\n",
    "data"
   ]
  },
  {
   "cell_type": "markdown",
   "id": "f834d5d8",
   "metadata": {},
   "source": [
    "**=> keine fehlenden Werte gefunden (immernoch 181 rows)**"
   ]
  },
  {
   "cell_type": "markdown",
   "id": "5f7347c7",
   "metadata": {},
   "source": [
    "### 3. Ausreißer erkennen und behandeln"
   ]
  },
  {
   "cell_type": "code",
   "execution_count": 58,
   "id": "791e954d",
   "metadata": {},
   "outputs": [
    {
     "data": {
      "image/png": "[encoded data removed]",
      "text/plain": [
       "<Figure size 640x480 with 1 Axes>"
      ]
     },
     "metadata": {},
     "output_type": "display_data"
    }
   ],
   "source": [
    "#Boxsplot zeigt die Verteilung der Daten + die Ausreißer\n",
    "import seaborn as sns\n",
    "import matplotlib.pyplot as plt\n",
    "sns.boxplot(data=data[['color', 'size', 'weight']])\n",
    "plt.show()"
   ]
  },
  {
   "cell_type": "markdown",
   "id": "ebae1f89",
   "metadata": {},
   "source": [
    "-Q1 ist der Wert, unterhalb dessen 25% der Daten liegen\n",
    "\n",
    "-Q3 ist der Wert, unterhalb dessen 75% der Daten liegen\n",
    "\n",
    "-Interquartilbereich (IQR) ist die Box, das ist Q3-Q1, darunter fallen 50% der Daten\n",
    "\n",
    "\n",
    "\n",
    "Ausreißer entfernt man, indem man Boundaries setzt. Boundaries werden folgendermaßen gesetzt: \n",
    "\n",
    "Man nimmt das 1.5fache des IQRs und \n",
    "\n",
    "    1.subtrahiert das von Q1 (=>untere Grenze) und \n",
    "    \n",
    "    2.addiert das auf Q3 (=>obere Grenze)"
   ]
  },
  {
   "cell_type": "code",
   "execution_count": 59,
   "id": "f82e2768",
   "metadata": {},
   "outputs": [],
   "source": [
    "from scipy import stats\n",
    "\n",
    "\n",
    "boundary_size = 1.5 #wird zum berechnen und setzen der boundaries genutzt (ist variabel)\n",
    "\n",
    "# Quartile und Boundaries berechnen\n",
    "Q1_color = data['color'].quantile(0.25) # Q1 ist der Wert, unterhalb dessen 25% der Daten liegen\n",
    "Q3_color = data['color'].quantile(0.75) # Q3 ist der Wert, unterhalb dessen 75% der Daten liegen\n",
    "IQR_color = Q3_color - Q1_color         # IQR berechnen für color \n",
    "color_lower_bound = Q1_color - 1.5 * IQR_color\n",
    "color_upper_bound = Q3_color + 1.5 * IQR_color\n",
    "#Ausreißer bestimmen\n",
    "outliers_color = ((data['color'] < color_lower_bound) | (data['color'] > color_upper_bound))\n",
    "\n",
    "\n",
    "Q1_size = data['size'].quantile(0.25) \n",
    "Q3_size = data['size'].quantile(0.75) \n",
    "IQR_size = Q3_size - Q1_size        \n",
    "size_lower_bound = Q1_size - 1.5 * IQR_size\n",
    "size_upper_bound = Q3_size + 1.5 * IQR_size\n",
    "#Ausreißer bestimmen\n",
    "outliers_size = ((data['size'] < size_lower_bound) | (data['size'] > size_upper_bound))\n",
    "\n",
    "\n",
    "Q1_weight = data['weight'].quantile(0.25)\n",
    "Q3_weight = data['weight'].quantile(0.75)\n",
    "IQR_weight = Q3_weight - Q1_weight\n",
    "weight_lower_bound = Q1_weight - 1.5 * IQR_weight\n",
    "weight_upper_bound = Q3_weight + 1.5 * IQR_weight\n",
    "#Ausreißer bestimmen\n",
    "outliers_weight = ((data['weight'] < weight_lower_bound) | (data['weight'] > weight_upper_bound))\n",
    "\n",
    "\n",
    "\n",
    "#Ausreißer entfernen\n",
    "data = data[~(outliers_color  | outliers_size | outliers_weight)]\n"
   ]
  },
  {
   "cell_type": "code",
   "execution_count": 60,
   "id": "2732987f",
   "metadata": {},
   "outputs": [
    {
     "data": {
      "image/png": "[encoded data removed]",
      "text/plain": [
       "<Figure size 640x480 with 1 Axes>"
      ]
     },
     "metadata": {},
     "output_type": "display_data"
    }
   ],
   "source": [
    "sns.boxplot(data=data[['color', 'size', 'weight']])\n",
    "plt.show()"
   ]
  },
  {
   "cell_type": "markdown",
   "id": "44835d34",
   "metadata": {},
   "source": [
    "(Beachte, dass beim zweiten Mal plotten keine Ausreißer Symbole, d.s. Rauten, mehr zu sehen sind)"
   ]
  },
  {
   "cell_type": "code",
   "execution_count": 61,
   "id": "589316f7",
   "metadata": {},
   "outputs": [
    {
     "data": {
      "text/html": [
       "<div>\n",
       "<style scoped>\n",
       "    .dataframe tbody tr th:only-of-type {\n",
       "        vertical-align: middle;\n",
       "    }\n",
       "\n",
       "    .dataframe tbody tr th {\n",
       "        vertical-align: top;\n",
       "    }\n",
       "\n",
       "    .dataframe thead th {\n",
       "        text-align: right;\n",
       "    }\n",
       "</style>\n",
       "<table border=\"1\" class=\"dataframe\">\n",
       "  <thead>\n",
       "    <tr style=\"text-align: right;\">\n",
       "      <th></th>\n",
       "      <th>color</th>\n",
       "      <th>size</th>\n",
       "      <th>weight</th>\n",
       "      <th>fruit_type_apple</th>\n",
       "      <th>fruit_type_banana</th>\n",
       "      <th>fruit_type_grape</th>\n",
       "    </tr>\n",
       "  </thead>\n",
       "  <tbody>\n",
       "    <tr>\n",
       "      <th>0</th>\n",
       "      <td>0.729387</td>\n",
       "      <td>-1.777319</td>\n",
       "      <td>-1.089371</td>\n",
       "      <td>0</td>\n",
       "      <td>0</td>\n",
       "      <td>1</td>\n",
       "    </tr>\n",
       "    <tr>\n",
       "      <th>1</th>\n",
       "      <td>-0.973462</td>\n",
       "      <td>1.144301</td>\n",
       "      <td>0.470776</td>\n",
       "      <td>1</td>\n",
       "      <td>0</td>\n",
       "      <td>0</td>\n",
       "    </tr>\n",
       "    <tr>\n",
       "      <th>2</th>\n",
       "      <td>1.297003</td>\n",
       "      <td>1.144301</td>\n",
       "      <td>0.334214</td>\n",
       "      <td>0</td>\n",
       "      <td>1</td>\n",
       "      <td>0</td>\n",
       "    </tr>\n",
       "    <tr>\n",
       "      <th>3</th>\n",
       "      <td>0.161771</td>\n",
       "      <td>-1.777319</td>\n",
       "      <td>-1.118982</td>\n",
       "      <td>0</td>\n",
       "      <td>0</td>\n",
       "      <td>1</td>\n",
       "    </tr>\n",
       "    <tr>\n",
       "      <th>4</th>\n",
       "      <td>1.864620</td>\n",
       "      <td>1.144301</td>\n",
       "      <td>0.492806</td>\n",
       "      <td>0</td>\n",
       "      <td>1</td>\n",
       "      <td>0</td>\n",
       "    </tr>\n",
       "    <tr>\n",
       "      <th>...</th>\n",
       "      <td>...</td>\n",
       "      <td>...</td>\n",
       "      <td>...</td>\n",
       "      <td>...</td>\n",
       "      <td>...</td>\n",
       "      <td>...</td>\n",
       "    </tr>\n",
       "    <tr>\n",
       "      <th>192</th>\n",
       "      <td>-0.405846</td>\n",
       "      <td>0.170428</td>\n",
       "      <td>-1.033580</td>\n",
       "      <td>0</td>\n",
       "      <td>0</td>\n",
       "      <td>1</td>\n",
       "    </tr>\n",
       "    <tr>\n",
       "      <th>194</th>\n",
       "      <td>-0.405846</td>\n",
       "      <td>-0.803445</td>\n",
       "      <td>-1.175107</td>\n",
       "      <td>0</td>\n",
       "      <td>0</td>\n",
       "      <td>1</td>\n",
       "    </tr>\n",
       "    <tr>\n",
       "      <th>196</th>\n",
       "      <td>1.297003</td>\n",
       "      <td>1.144301</td>\n",
       "      <td>-0.430096</td>\n",
       "      <td>0</td>\n",
       "      <td>1</td>\n",
       "      <td>0</td>\n",
       "    </tr>\n",
       "    <tr>\n",
       "      <th>198</th>\n",
       "      <td>0.161771</td>\n",
       "      <td>0.170428</td>\n",
       "      <td>-1.167769</td>\n",
       "      <td>0</td>\n",
       "      <td>0</td>\n",
       "      <td>1</td>\n",
       "    </tr>\n",
       "    <tr>\n",
       "      <th>199</th>\n",
       "      <td>0.161771</td>\n",
       "      <td>0.170428</td>\n",
       "      <td>-1.140172</td>\n",
       "      <td>0</td>\n",
       "      <td>0</td>\n",
       "      <td>1</td>\n",
       "    </tr>\n",
       "  </tbody>\n",
       "</table>\n",
       "<p>179 rows × 6 columns</p>\n",
       "</div>"
      ],
      "text/plain": [
       "        color      size    weight  fruit_type_apple  fruit_type_banana  \\\n",
       "0    0.729387 -1.777319 -1.089371                 0                  0   \n",
       "1   -0.973462  1.144301  0.470776                 1                  0   \n",
       "2    1.297003  1.144301  0.334214                 0                  1   \n",
       "3    0.161771 -1.777319 -1.118982                 0                  0   \n",
       "4    1.864620  1.144301  0.492806                 0                  1   \n",
       "..        ...       ...       ...               ...                ...   \n",
       "192 -0.405846  0.170428 -1.033580                 0                  0   \n",
       "194 -0.405846 -0.803445 -1.175107                 0                  0   \n",
       "196  1.297003  1.144301 -0.430096                 0                  1   \n",
       "198  0.161771  0.170428 -1.167769                 0                  0   \n",
       "199  0.161771  0.170428 -1.140172                 0                  0   \n",
       "\n",
       "     fruit_type_grape  \n",
       "0                   1  \n",
       "1                   0  \n",
       "2                   0  \n",
       "3                   1  \n",
       "4                   0  \n",
       "..                ...  \n",
       "192                 1  \n",
       "194                 1  \n",
       "196                 0  \n",
       "198                 1  \n",
       "199                 1  \n",
       "\n",
       "[179 rows x 6 columns]"
      ]
     },
     "execution_count": 61,
     "metadata": {},
     "output_type": "execute_result"
    }
   ],
   "source": [
    "data"
   ]
  },
  {
   "cell_type": "markdown",
   "id": "7e1cc300",
   "metadata": {},
   "source": []
  },
  {
   "cell_type": "code",
   "execution_count": 62,
   "id": "15aec4d0",
   "metadata": {},
   "outputs": [],
   "source": [
    "data.to_csv('clean_data.csv', index=False)"
   ]
  },
  {
   "cell_type": "code",
   "execution_count": 63,
   "id": "8db49461",
   "metadata": {},
   "outputs": [],
   "source": [
    "data.to_excel('clean_data.xlsx', index=False)"
   ]
  },
  {
   "cell_type": "code",
   "execution_count": null,
   "id": "e4e4338b",
   "metadata": {},
   "outputs": [],
   "source": []
  }
 ],
 "metadata": {
  "kernelspec": {
   "display_name": "Python 3 (ipykernel)",
   "language": "python",
   "name": "python3"
  },
  "language_info": {
   "codemirror_mode": {
    "name": "ipython",
    "version": 3
   },
   "file_extension": ".py",
   "mimetype": "text/x-python",
   "name": "python",
   "nbconvert_exporter": "python",
   "pygments_lexer": "ipython3",
   "version": "3.11.3"
  }
 },
 "nbformat": 4,
 "nbformat_minor": 5
}
