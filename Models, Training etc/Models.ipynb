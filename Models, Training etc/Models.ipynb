{
 "cells": [
  {
   "cell_type": "markdown",
   "id": "48d65e6d",
   "metadata": {},
   "source": [
    "# Models\n",
    "In diesem Notebook:\n",
    "\n",
    "**1. X, y, Train, Validate und Test Sets erstellen**\n",
    "\n",
    "**2. Modell 1 (logistische Regression) und Modell 2 (Decision Tree) erstellen**\n",
    " "
   ]
  },
  {
   "cell_type": "markdown",
   "id": "66afe7a4",
   "metadata": {},
   "source": [
    "### X, y, Train, Validate und Test Sets erstellen"
   ]
  },
  {
   "cell_type": "code",
   "execution_count": 97,
   "id": "e69cdca6",
   "metadata": {},
   "outputs": [],
   "source": [
    "#Die aufbereiteten Daten einlesen\n",
    "import pandas as pd\n",
    "import numpy as np\n",
    "\n",
    "data = pd.read_csv(\"../Data Cleaning/clean_data.csv\",)\n",
    "\n",
    "    "
   ]
  },
  {
   "cell_type": "code",
   "execution_count": 98,
   "id": "65b6581e",
   "metadata": {},
   "outputs": [],
   "source": [
    "#Funktion, um aus einem Abschnitt der Tabelle Eingaben und Ausgaben zu erzeugen\n",
    "def scale_dataset(dataframe):\n",
    "    X = dataframe.drop(columns=['fruit_type_apple', 'fruit_type_banana', 'fruit_type_banana'])\n",
    "    y = dataframe.drop(columns=['color', 'size', 'weight'])\n",
    "    \n",
    "    data = np.hstack((X, np.reshape(y, (len(y),3)))) #führt wieder beides zusammen \n",
    "    #Siehe bei Aufruf, warum data wichtig ist\n",
    "    \n",
    "    return data, X, y"
   ]
  },
  {
   "cell_type": "code",
   "execution_count": 99,
   "id": "2a7aca5a",
   "metadata": {},
   "outputs": [],
   "source": [
    "#Erstellt die Datasets\n",
    "train, valid, test = np.split(data.sample(frac=1),[int(0.6*len(data)),int(0.8*len(data))])\n",
    "#np.split(data, [3, 7]) => Teilt data an den Indezes 3 und 7 \n",
    "#data.sample(frac=1) => mischt data durch + gibt 100% der Datensätze zurück (wieder als Dataframe)\n",
    "\n",
    "train, X_train, y_train = scale_dataset(train)\n",
    "valid, X_valid, y_valid = scale_dataset(valid)\n",
    "test, X_test, y_test = scale_dataset(test)\n"
   ]
  },
  {
   "cell_type": "code",
   "execution_count": 100,
   "id": "41993a57",
   "metadata": {},
   "outputs": [
    {
     "name": "stdout",
     "output_type": "stream",
     "text": [
      "Training Sets\n",
      "36\n",
      "35\n",
      "31\n",
      "\n",
      "Validation Sets\n",
      "14\n",
      "11\n",
      "9\n",
      "\n",
      "Test Sets\n",
      "11\n",
      "12\n",
      "11\n",
      "\n"
     ]
    }
   ],
   "source": [
    "#Zeigt die Verteilung von fruit_types in den output sets von train, valid und tests\n",
    "print(\"Training Sets\")\n",
    "print(len(y_train[y_train[\"fruit_type_apple\"] == 1]))\n",
    "print(len(y_train[y_train[\"fruit_type_banana\"] == 1]))\n",
    "print(len(y_train[y_train[\"fruit_type_grape\"] == 1]))\n",
    "print()\n",
    "\n",
    "print(\"Validation Sets\")\n",
    "print(len(y_valid[y_valid[\"fruit_type_apple\"] == 1]))\n",
    "print(len(y_valid[y_valid[\"fruit_type_banana\"] == 1]))\n",
    "print(len(y_valid[y_valid[\"fruit_type_grape\"] == 1]))\n",
    "print()\n",
    "\n",
    "print(\"Test Sets\")\n",
    "print(len(y_test[y_test[\"fruit_type_apple\"] == 1]))\n",
    "print(len(y_test[y_test[\"fruit_type_banana\"] == 1]))\n",
    "print(len(y_test[y_test[\"fruit_type_grape\"] == 1]))\n",
    "print()"
   ]
  },
  {
   "cell_type": "markdown",
   "id": "e787641b",
   "metadata": {},
   "source": [
    "##  2.Modell 1 (logistische Regression) und Modell 2 (Decision Tree) erstellen"
   ]
  },
  {
   "cell_type": "markdown",
   "id": "adc1021a",
   "metadata": {},
   "source": [
    "#### Modell 1 - logistische Regression"
   ]
  },
  {
   "cell_type": "code",
   "execution_count": 101,
   "id": "b91ad6db",
   "metadata": {},
   "outputs": [],
   "source": [
    "#Das LogisticRegression Model erwartet als y ein 1d Array, daher zunächst:\n",
    "y_train_1d = y_train.idxmax(axis=1)\n",
    "y_valid_1d = y_valid.idxmax(axis=1)\n",
    "#damit lassen sich die drei Spalten von onehot encoding zurück in eine\n",
    "#1d Spalte mit den werten fruit_type_apple, fruit_type_banana, fruit_type_grape umwandeln"
   ]
  },
  {
   "cell_type": "code",
   "execution_count": 102,
   "id": "dc021eb2",
   "metadata": {},
   "outputs": [
    {
     "name": "stdout",
     "output_type": "stream",
     "text": [
      "Accuracy of Logistic Regression: 0.79\n"
     ]
    }
   ],
   "source": [
    "from sklearn.linear_model import LogisticRegression\n",
    "from sklearn.metrics import accuracy_score\n",
    "\n",
    "model1 = LogisticRegression()\n",
    "model1.fit(X_train, y_train_1d)\n",
    "\n",
    "y_predictions_model1 = model1.predict(X_valid) #Validation X übergeben und predicitons speichern\n",
    "\n",
    "accuracy_model1 = accuracy_score(y_valid_1d, y_predictions_model1) #compares Validation y mit den predictions\n",
    "\n",
    "print(f\"Accuracy of Logistic Regression: {accuracy_model1:.2f}\")"
   ]
  },
  {
   "cell_type": "markdown",
   "id": "2cff4f00",
   "metadata": {},
   "source": [
    "#### Modell 2 - Decision Tree"
   ]
  },
  {
   "cell_type": "code",
   "execution_count": 103,
   "id": "477d0d1e",
   "metadata": {},
   "outputs": [
    {
     "name": "stdout",
     "output_type": "stream",
     "text": [
      "Accuracy of Decision Tree: 0.88\n"
     ]
    }
   ],
   "source": [
    "from sklearn.tree import DecisionTreeClassifier\n",
    "\n",
    "model2 = DecisionTreeClassifier()\n",
    "\n",
    "model2.fit(X_train, y_train)\n",
    "\n",
    "y_predictions_model2  = model2.predict(X_valid)\n",
    "\n",
    "accuracy_model2 = accuracy_score(y_valid, y_predictions_model2)\n",
    "print(f\"Accuracy of Decision Tree: {accuracy_model2:.2f}\")"
   ]
  },
  {
   "cell_type": "code",
   "execution_count": null,
   "id": "ce2eeaf5",
   "metadata": {},
   "outputs": [],
   "source": []
  }
 ],
 "metadata": {
  "kernelspec": {
   "display_name": "Python 3 (ipykernel)",
   "language": "python",
   "name": "python3"
  },
  "language_info": {
   "codemirror_mode": {
    "name": "ipython",
    "version": 3
   },
   "file_extension": ".py",
   "mimetype": "text/x-python",
   "name": "python",
   "nbconvert_exporter": "python",
   "pygments_lexer": "ipython3",
   "version": "3.11.3"
  }
 },
 "nbformat": 4,
 "nbformat_minor": 5
}
